{
 "cells": [
  {
   "cell_type": "markdown",
   "id": "b7f7ae95-0a9d-49d2-a8bf-fb10578071fd",
   "metadata": {},
   "source": [
    "# Geo Plotting\n",
    "\n",
    "Inspired by [https://coderzcolumn.com/tutorials/data-science/how-to-create-connection-map-chart-in-python-jupyter-notebook-plotly-and-geopandas](https://coderzcolumn.com/tutorials/data-science/how-to-create-connection-map-chart-in-python-jupyter-notebook-plotly-and-geopandas)"
   ]
  },
  {
   "cell_type": "code",
   "execution_count": null,
   "id": "2300a9fd-04a3-40d2-a939-d68d23162285",
   "metadata": {},
   "outputs": [],
   "source": [
    "!pip install geopandas plotly seaborn"
   ]
  },
  {
   "cell_type": "code",
   "execution_count": 7,
   "id": "d7529221-7507-48b6-82a4-776dc084b0ac",
   "metadata": {},
   "outputs": [],
   "source": [
    "import pandas as pd\n",
    "import geopandas as gpd\n",
    "\n",
    "import matplotlib.pyplot as plt\n",
    "import plotly.graph_objects as go\n",
    "\n",
    "# opt in to ignore warnings\n",
    "import warnings\n",
    "warnings.filterwarnings(\"ignore\")\n",
    "\n",
    "# get map data from https://www.naturalearthdata.com/downloads/110m-cultural-vectors/\n",
    "# Map: Admin 0 – Countries\n",
    "# https://www.naturalearthdata.com/http//www.naturalearthdata.com/download/110m/cultural/ne_110m_admin_0_countries.zip\n",
    "\n",
    "import os\n",
    "cwd = os.getcwd()\n",
    "world = gpd.read_file(f\"zip://{cwd}/ne_110m_admin_0_countries.zip\")"
   ]
  },
  {
   "cell_type": "markdown",
   "id": "9acf0f1c-7f5e-479e-b616-d220570f0f7a",
   "metadata": {},
   "source": [
    "## Map plotting\n",
    "\n",
    "Geopandas uses classes from [shapely](https://shapely.readthedocs.io/en/stable/index.html),\n",
    "like:\n",
    "* [Points](https://shapely.readthedocs.io/en/stable/reference/shapely.Point.html)\n",
    "* [Polygon](https://shapely.readthedocs.io/en/stable/reference/shapely.Polygon.html#shapely.Polygon)\n",
    "* [MultiPolygon](https://shapely.readthedocs.io/en/stable/reference/shapely.MultiPolygon.html)"
   ]
  },
  {
   "cell_type": "markdown",
   "id": "4f27646f-031a-4f1b-a407-c452e8fe4228",
   "metadata": {},
   "source": [
    "### Plotting a single connection"
   ]
  },
  {
   "cell_type": "markdown",
   "id": "dabe28be-bfc9-403d-817a-2d8cb50e93d1",
   "metadata": {},
   "source": [
    "#### Get shapely datas"
   ]
  },
  {
   "cell_type": "code",
   "execution_count": 8,
   "id": "d896937b-634b-4f91-bedf-e9a86b91b6ca",
   "metadata": {},
   "outputs": [
    {
     "data": {
      "text/plain": [
       "'South Africa'"
      ]
     },
     "execution_count": 8,
     "metadata": {},
     "output_type": "execute_result"
    }
   ],
   "source": [
    "sa = world[world[\"NAME\"].str.contains(\"South Africa\")]\n",
    "uk = world[world[\"NAME\"].str.contains(\"United Kingdom\")]\n",
    "sa.iloc[0][\"NAME\"]"
   ]
  },
  {
   "cell_type": "code",
   "execution_count": null,
   "id": "45fbf97b-e931-47ea-a0ba-f95ed25cf68e",
   "metadata": {},
   "outputs": [],
   "source": [
    "# print plot styles\n",
    "plt.style.available"
   ]
  },
  {
   "cell_type": "code",
   "execution_count": 20,
   "id": "309979e2-0631-4576-b1eb-4bcdf1b1b1bf",
   "metadata": {},
   "outputs": [],
   "source": [
    "cmap = plt.colormaps[\"GnBu\"]\n",
    "from matplotlib.colors import Normalize\n",
    "\n",
    "def plot_country_name(ax, country):\n",
    "    name = country.iloc[0][\"NAME\"]\n",
    "    country_x = country.centroid.x + 5\n",
    "    country_y = country.centroid.y - 5\n",
    "    ax.text(country_x, country_y, name, fontsize=8, color=\"black\", alpha=0.8, horizontalalignment='center', verticalalignment='center')\n",
    "\n",
    "def plot_country(ax, country, color_scalar: float):\n",
    "    country[\"geometry\"].plot(ax=ax, color=cmap(color_scalar))\n",
    "\n",
    "def plot_connection(ax, country_a, country_b, linewidth=1, alpha=.5):\n",
    "    a = country_a[\"geometry\"].centroid\n",
    "    b = country_b[\"geometry\"].centroid\n",
    "    ax.plot([a.x , b.x], [a.y, b.y], color=\"black\", linewidth=linewidth, alpha=alpha)\n",
    "    ax.scatter(a.x, a.y, color=\"black\", s=10)\n",
    "    ax.scatter(b.x, b.y, color=\"black\", s=10)\n",
    "\n",
    "with plt.style.context((\"bmh\")):\n",
    "    ax = world.plot(figsize=(18,10), edgecolor=\"grey\", color=cmap(.0));\n",
    "    fig = ax.get_figure()\n",
    "    fig.set_dpi(300)\n",
    "    fig.colorbar(plt.cm.ScalarMappable(norm=Normalize(0, 1), cmap=cmap), ax=ax, label=\"a colorbar\")\n",
    "    plot_country(ax, sa, .4)\n",
    "    plot_country(ax, uk, .8)\n",
    "    plot_country_name(ax, uk)\n",
    "    plot_country_name(ax, sa)\n",
    "    plot_connection(ax,uk,sa)\n",
    "    ax.get_xaxis().set_visible(False)\n",
    "    ax.get_yaxis().set_visible(False)\n",
    "    ax.set_title(\"Connection between some points on a map\")\n",
    "    plt.savefig(\"file.png\", dpi=100)"
   ]
  },
  {
   "cell_type": "markdown",
   "id": "a7125d4a-0065-444a-960e-629116291cc5",
   "metadata": {},
   "source": [
    "### Create some random connections"
   ]
  },
  {
   "cell_type": "code",
   "execution_count": 11,
   "id": "573156a1-7263-4931-b234-b669f7b3abfd",
   "metadata": {},
   "outputs": [],
   "source": [
    "import random\n",
    "\n",
    "def random_country_connections(world: gpd.GeoDataFrame):\n",
    "    c_connections = []\n",
    "    for i in range(50):\n",
    "        index_a = random.randint(0,len(world)-1)\n",
    "        country_a = world.iloc[index_a][\"NAME\"]\n",
    "        connections = [{\"Country\": world.iloc[random.randint(0,len(world)-1)][\"NAME\"],\n",
    "                        \"Count\": random.randint(1,5)}\n",
    "                        for _ in range(random.randint(1,5))]\n",
    "        country_dict = {\"Country\": country_a, \"Connections\": connections}\n",
    "        c_connections.append(country_dict)\n",
    "    return c_connections"
   ]
  },
  {
   "cell_type": "markdown",
   "id": "6f17fc82-1384-439b-a39f-eac5e3a43e26",
   "metadata": {},
   "source": [
    "### Plot heatmap based on the connection count"
   ]
  },
  {
   "cell_type": "code",
   "execution_count": 18,
   "id": "6d941865-ea9a-4277-88ee-a221fe960368",
   "metadata": {},
   "outputs": [],
   "source": [
    "def find_country_by_name(country_name):\n",
    "    country = world[world[\"NAME\"].str.contains(country_name)]\n",
    "    if len(country) > 1:\n",
    "        print(\"Country name is ambigous\")\n",
    "        raise Exception\n",
    "    return country\n",
    "import numpy\n",
    "\n",
    "connections = random_country_connections(world)\n",
    "max_connections = max([len(i[\"Connections\"]) for i in connections])\n",
    "max_multi_connections = max([j[\"Count\"] for i in connections for j in i[\"Connections\"]])\n",
    "\n",
    "with plt.style.context((\"bmh\")):\n",
    "    ax = world.plot(figsize=(18,10), edgecolor=\"grey\", color=cmap(.0));\n",
    "    fig = ax.get_figure()\n",
    "    fig.set_dpi(200)\n",
    "    fig.colorbar(plt.cm.ScalarMappable(norm=Normalize(0, 1), cmap=cmap), ax=ax, label=\"a colorbar\")\n",
    "    for c in connections[0:10]:\n",
    "        try:\n",
    "            src = find_country_by_name(c[\"Country\"])\n",
    "        except Exception:\n",
    "            continue # ignore error and continue\n",
    "        src_color_scalar = len(c[\"Connections\"]) / max_connections\n",
    "        plot_country(ax, src, src_color_scalar)\n",
    "        if len(c[\"Connections\"]) / max_connections > 0.5:\n",
    "            plot_country_name(ax, src)\n",
    "    ax.get_xaxis().set_visible(False)\n",
    "    ax.get_yaxis().set_visible(False)\n",
    "    ax.set_title(\"Geo heatmap\")\n",
    "    #plt.savefig(\"heatmap.png\", dpi=100)"
   ]
  },
  {
   "cell_type": "code",
   "execution_count": 19,
   "id": "8df775e4-ad6d-43e6-8cd5-0e1973d1702b",
   "metadata": {},
   "outputs": [
    {
     "name": "stdout",
     "output_type": "stream",
     "text": [
      "{'Country': 'Portugal', 'Connections': [{'Country': 'Palestine', 'Count': 2}]}\n"
     ]
    }
   ],
   "source": [
    "connections = random_country_connections(world)\n",
    "max_connections = max([len(i[\"Connections\"]) for i in connections])\n",
    "max_multi_connections = max([j[\"Count\"] for i in connections for j in i[\"Connections\"]])\n",
    "\n",
    "with plt.style.context((\"bmh\")):\n",
    "    ax = world.plot(figsize=(18,10), edgecolor=\"grey\", color=cmap(.0));\n",
    "    fig = ax.get_figure()\n",
    "    c = connections[0]\n",
    "    print(c)\n",
    "    src = find_country_by_name(c[\"Country\"])\n",
    "    src_color_scalar = len(c[\"Connections\"]) / max_connections\n",
    "    plot_country(ax, src, src_color_scalar)\n",
    "    plot_country_name(ax, src)\n",
    "    for connection in c[\"Connections\"]:\n",
    "        try:\n",
    "            dest = find_country_by_name(connection[\"Country\"])\n",
    "        except Exception:\n",
    "            print()\n",
    "            continue # ignore error and continue\n",
    "        plot_country_name(ax, dest)\n",
    "        alpha = connection[\"Count\"] / max_multi_connections\n",
    "        plot_connection(ax, src, dest, alpha=alpha)\n",
    "    ax.get_xaxis().set_visible(False)\n",
    "    ax.get_yaxis().set_visible(False)\n",
    "    ax.set_title(\"Connection between some points on a map\")\n",
    "    #plt.savefig(\"connections.png\", dpi=100)"
   ]
  },
  {
   "cell_type": "code",
   "execution_count": null,
   "id": "d148434b-6af3-47b1-a93f-e46fa371cdbe",
   "metadata": {},
   "outputs": [],
   "source": []
  }
 ],
 "metadata": {
  "kernelspec": {
   "display_name": "Python 3 (ipykernel)",
   "language": "python",
   "name": "python3"
  },
  "language_info": {
   "codemirror_mode": {
    "name": "ipython",
    "version": 3
   },
   "file_extension": ".py",
   "mimetype": "text/x-python",
   "name": "python",
   "nbconvert_exporter": "python",
   "pygments_lexer": "ipython3",
   "version": "3.11.9"
  }
 },
 "nbformat": 4,
 "nbformat_minor": 5
}
